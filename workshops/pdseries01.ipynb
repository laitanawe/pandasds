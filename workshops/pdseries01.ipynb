{
  "nbformat": 4,
  "nbformat_minor": 0,
  "metadata": {
    "colab": {
      "provenance": []
    },
    "kernelspec": {
      "name": "python3",
      "display_name": "Python 3"
    },
    "language_info": {
      "name": "python"
    }
  },
  "cells": [
    {
      "cell_type": "markdown",
      "source": [
        "\n",
        "Welcome to Pandas for Data Science\n",
        "Todays agenda:\n",
        "\n",
        "    Introducing Pandas\n",
        "    Comments, Variables\n",
        "    Loading Data into Pandas\n",
        "    Strings\n",
        "    Q/A; Break\n",
        "    Operators\n",
        "    Python Numbers\n",
        "    Functions\n",
        "\n",
        "Section 1: Introducing Pandas:\n",
        "What is Pandas? (And why should you learn it?)\n",
        "\n",
        "\n",
        "    Pandas is a powerful data manipulation and wrangling library for python\n",
        "\n",
        "    Python is a powerful programming language\n",
        "\n",
        "    It (generally) respects the syntax preferences from computer science\n",
        "\n",
        "    It has many powerful champions in the machine learning space\n",
        "\n",
        "    It is popular with technology companies and a useful general purpose high level programming language\n",
        "\n",
        "    It's often early to market with tooling for processing very large datasets and related technologies\n",
        "\n",
        "Why was Pandas created?\n",
        "\n",
        "Python is a high level language. The development of system administration utilities in C takes some time. Certain tasks don't work in the Bourne shell for a variety of reasons. Python is a language that bridges the gap between C and the shell. - Guido van Rossum (creator of the Python language).\n",
        "\n",
        "Section 2: COMMENTS:\n",
        "\n",
        "    Comments are lines of a Python script that you want Python to ignore\n",
        "    Comments are useful for writing notes to your future self about what you were thinking\n",
        "    Simple one line comments start with a #\n",
        "\n"
      ],
      "metadata": {
        "id": "1Q2P4o1OJ99O"
      }
    },
    {
      "cell_type": "code",
      "execution_count": 24,
      "metadata": {
        "id": "rcBtdnrB-y6R",
        "colab": {
          "base_uri": "https://localhost:8080/"
        },
        "outputId": "3a39f6ae-8622-4981-d65a-b9988efe638b"
      },
      "outputs": [
        {
          "output_type": "stream",
          "name": "stdout",
          "text": [
            "   longitude  latitude  housing_median_age  total_rooms  total_bedrooms  \\\n",
            "1    -118.30     34.26                43.0       1510.0           310.0   \n",
            "2    -117.81     33.78                27.0       3589.0           507.0   \n",
            "3    -118.36     33.82                28.0         67.0            15.0   \n",
            "4    -119.67     36.33                19.0       1241.0           244.0   \n",
            "5    -119.56     36.51                37.0       1018.0           213.0   \n",
            "\n",
            "   population  households  median_income  median_house_value  \n",
            "1       809.0       277.0         3.5990            176500.0  \n",
            "2      1484.0       495.0         5.7934            270500.0  \n",
            "3        49.0        11.0         6.1359            330000.0  \n",
            "4       850.0       237.0         2.9375             81700.0  \n",
            "5       663.0       204.0         1.6635             67000.0  \n"
          ]
        }
      ],
      "source": [
        "import pandas as pd\n",
        "\n",
        "\n",
        "print ('pandas version', pd.__version__)\n",
        "\n",
        "mydata = pd.read_csv('https://raw.githubusercontent.com/laitanawe/pandasds/main/workshops/data/cal_housing_small.csv')\n",
        "store = pd.read_csv('https://raw.githubusercontent.com/laitanawe/pandasds/main/workshops/data/cal_housing_large.csv')\n",
        "\n",
        "# Print the first few lines of a dataframe using the head function\n",
        "print(mydata.head(15))\n",
        "\n",
        "# Print the first few lines of a dataframe using the head function\n",
        "print(store.head(15))\n",
        "\n",
        "# Print the headers of a dataframe\n",
        "print(mydata.columns)\n",
        "\n",
        "# Print a specific column of a dataframe (Indexing starts from zero in python)\n",
        "print(mydata['median_income'])\n",
        "\n",
        "# Print a specific column of a dataframe\n",
        "# (Python skips the ending index when you slice)\n",
        "print(mydata['median_income'][3:10])\n",
        "\n",
        "# Subset: only print a set of columns\n",
        "# Read each column\n",
        "print(mydata[['longitude', 'latitude', 'housing_median_age', 'population']])\n",
        "\n",
        "# Print specific rows of a dataframe using the iloc function\n",
        "print(mydata.iloc[1:6])\n",
        "\n"
      ]
    }
  ]
}