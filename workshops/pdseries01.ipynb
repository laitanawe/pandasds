{
  "nbformat": 4,
  "nbformat_minor": 0,
  "metadata": {
    "colab": {
      "provenance": []
    },
    "kernelspec": {
      "name": "python3",
      "display_name": "Python 3"
    },
    "language_info": {
      "name": "python"
    }
  },
  "cells": [
    {
      "cell_type": "markdown",
      "source": [
        "\n",
        "Welcome to Pandas for Data Science\n",
        "Todays agenda:\n",
        "\n",
        "    Introducing Pandas\n",
        "    Comments, Variables\n",
        "    Python Variable types\n",
        "    Strings\n",
        "    Q/A; Break\n",
        "    Operators\n",
        "    Python Numbers\n",
        "    Functions\n",
        "\n",
        "Section 1: Introducing Pandas:\n",
        "What is Python? (And why should you learn it?)\n",
        "Data science has two main cultural influences: Math and Computer Science\n",
        "\n",
        "    Python is the preferred language for the 2nd of these cultures\n",
        "\n",
        "    Python is a powerful programming language\n",
        "\n",
        "    It (generally) respects the syntax preferences from computer science\n",
        "\n",
        "    It has many powerful champions in the machine learning space\n",
        "\n",
        "    It is popular with technology companies and a useful general purpose high level programming language\n",
        "\n",
        "    It's often early to market with tooling for processing very large datasets and related technologies\n",
        "\n",
        "Why was Python created?\n",
        "\n",
        "Python is a high level language. The development of system administration utilities in C takes some time. Certain tasks don't work in the Bourne shell for a variety of reasons. Python is a language that bridges the gap between C and the shell. - Guido van Rossum (creator of the Python language).\n",
        "\n",
        "Section 2: COMMENTS:\n",
        "\n",
        "    Comments are lines of a Python script that you want Python to ignore\n",
        "    Comments are useful for writing notes to your future self about what you were thinking\n",
        "    Simple one line comments start with a #\n",
        "\n",
        "Python Variables\n",
        "\n",
        "A variable name can be composed of alphabets, numbers, and underscore characters e.g. name, age, height, color, cloud_vendors, AGE, _color. Variables cannot start with a number. Variable names cannot be ! or %. You cannot use python keywords like for, if, while, import.\n",
        "\n",
        "Indentation in Python\n",
        "\n",
        "In python, indentation has a special meaning and it is very important. Everything indented belongs to a block. If you just randomly indent statements and expressions, you will get an indentation error when you run the code.\n"
      ],
      "metadata": {
        "id": "1Q2P4o1OJ99O"
      }
    },
    {
      "cell_type": "code",
      "execution_count": 2,
      "metadata": {
        "id": "rcBtdnrB-y6R",
        "colab": {
          "base_uri": "https://localhost:8080/"
        },
        "outputId": "ae23905e-4a06-4cf4-c094-c5f78f00a69f"
      },
      "outputs": [
        {
          "output_type": "stream",
          "name": "stdout",
          "text": [
            "pandas version 2.1.4\n",
            "John\n",
            "Doe\n",
            "\n",
            "This is a multi-line text\n",
            "Another sentence can go here\n",
            "This is is a new sentence\n",
            "\n",
            "This is a fun workshop. We are learning data science!\n"
          ]
        }
      ],
      "source": [
        "import pandas as pd\n",
        "\n",
        "\n",
        "print ('pandas version', pd.__version__)\n",
        "\n",
        "\n",
        "name1 = \"John\"\n",
        "name2 = 'Doe'\n",
        "text1 = '''\n",
        "This is a multi-line text\n",
        "Another sentence can go here\n",
        "This is is a new sentence\n",
        "'''\n",
        "# This is a commented line and will be ignored\n",
        "# Let's make our own variable\n",
        "'''\n",
        "This will be ignored\n",
        "'''\n",
        "\"\"\"\n",
        "This will also be ignored\n",
        "\"\"\"\n",
        "myvariable = \"This is a fun workshop. We are learning data science!\" # this is an inline comment\n",
        "\n",
        "print(name1)\n",
        "print(name2)\n",
        "print(text1)\n",
        "print(myvariable)"
      ]
    }
  ]
}