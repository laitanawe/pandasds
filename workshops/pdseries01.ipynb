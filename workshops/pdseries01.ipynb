{
  "nbformat": 4,
  "nbformat_minor": 0,
  "metadata": {
    "colab": {
      "provenance": []
    },
    "kernelspec": {
      "name": "python3",
      "display_name": "Python 3"
    },
    "language_info": {
      "name": "python"
    }
  },
  "cells": [
    {
      "cell_type": "markdown",
      "source": [
        "\n",
        "Welcome to Pandas for Data Science\n",
        "Todays agenda:\n",
        "\n",
        "    Introducing Pandas\n",
        "    Comments, Variables\n",
        "    Loading Data into Pandas\n",
        "    Module Strings\n",
        "    Q/A; Break\n",
        "    Module Operators\n",
        "    Module Python Numbers\n",
        "    Module Functions\n",
        "\n",
        "Section 1: Introducing Pandas:\n",
        "What is Pandas? (And why should you learn it?)\n",
        "How can I:\n",
        "Select individual values from a Pandas dataframe.\n",
        "Select entire rows or entire columns from a dataframe.\n",
        "Select a subset of both rows and columns from a dataframe in a single operation.\n",
        "\n",
        "    Pandas is a powerful data manipulation and wrangling library for python\n",
        "\n",
        "    A DataFrame is a collection of Series; The DataFrame is the way Pandas represents a table, and Series is the data-structure Pandas use to represent a column.\n",
        "\n",
        "    What makes Pandas so attractive is the powerful interface to access individual records of the table, proper handling of missing values, and relational-databases operations between DataFrames.\n",
        "\n",
        "Section 2: COMMENTS:\n",
        "\n",
        "    As in Python, comments are lines of a Python script that you want Python to ignore\n",
        "    Comments are useful for writing notes to your future self about what you were thinking\n",
        "    Simple one line comments start with a #\n",
        "\n",
        "Section 3: SELECTING VALUES:\n",
        "\n",
        "    "
      ],
      "metadata": {
        "id": "1Q2P4o1OJ99O"
      }
    },
    {
      "cell_type": "code",
      "execution_count": 13,
      "metadata": {
        "id": "rcBtdnrB-y6R",
        "colab": {
          "base_uri": "https://localhost:8080/"
        },
        "outputId": "1123db4c-42cf-4935-f8f7-6d8c3ff0d2cf"
      },
      "outputs": [
        {
          "output_type": "stream",
          "name": "stdout",
          "text": [
            "gdpPercap_1952    1601.056136\n",
            "gdpPercap_1957    1942.284244\n",
            "gdpPercap_1962    2312.888958\n",
            "gdpPercap_1967    2760.196931\n",
            "gdpPercap_1972    3313.422188\n",
            "gdpPercap_1977    3533.003910\n",
            "gdpPercap_1982    3630.880722\n",
            "gdpPercap_1987    3738.932735\n",
            "gdpPercap_1992    2497.437901\n",
            "gdpPercap_1997    3193.054604\n",
            "gdpPercap_2002    4604.211737\n",
            "gdpPercap_2007    5937.029526\n",
            "Name: Albania, dtype: float64\n"
          ]
        }
      ],
      "source": [
        "import pandas as pd\n",
        "\n",
        "print ('pandas version', pd.__version__)\n",
        "\n",
        "data = pd.read_csv('https://raw.githubusercontent.com/laitanawe/pandasds/main/workshops/data/gapminder_gdp_europe.csv')\n",
        "store = pd.read_csv('https://raw.githubusercontent.com/laitanawe/pandasds/main/workshops/data/cal_housing_small.csv')\n",
        "\n",
        "# Ctrl + Shift + Enter = Specific Line Run\n",
        "# Ctrl + Enter = All Lines Run\n",
        "\n",
        "# To access a value at the position [i,j] of a DataFrame, we have two options, depending on what is the meaning of i in use.\n",
        "# A DataFrame provides a index as a way to identify the rows of the table; a row, then, has a position inside the table as well as a label, which uniquely identifies its entry in the DataFrame.\n",
        "\n",
        "# Use DataFrame.iloc[..., ...] to select values by their (entry) position\n",
        "# DataFrame.iloc can specify location by numerical index analogously to 2D version of integer character selection in strings.\n",
        "mydata = pd.read_csv('https://raw.githubusercontent.com/laitanawe/pandasds/main/workshops/data/gapminder_gdp_europe.csv', index_col='country')\n",
        "print(data.iloc[0, 0])\n",
        "\n",
        "# DataFrame.loc can specify location by row name analogously to 2D version of dictionary keys.\n",
        "data = pd.read_csv('https://raw.githubusercontent.com/laitanawe/pandasds/main/workshops/data/gapminder_gdp_europe.csv', index_col='country')\n",
        "print(data.loc[\"Albania\", \"gdpPercap_1952\"])\n",
        "\n",
        "\n",
        "\n",
        "# Print the first few lines of a dataframe using the head function\n",
        "print(store.head(15))\n",
        "\n",
        "# Print the headers of a dataframe\n",
        "print(store.columns)\n",
        "\n",
        "# Print a specific column of a dataframe (Indexing starts from zero in python)\n",
        "print(store['median_income'])\n",
        "\n",
        "# Print a specific column of a dataframe\n",
        "# (Python skips the ending index when you slice)\n",
        "print(store['median_income'][3:10])\n",
        "\n",
        "# Subset: only print a set of columns\n",
        "# Read each column\n",
        "print(store[['longitude', 'latitude', 'housing_median_age', 'population']])\n",
        "\n",
        "# Print specific rows of a dataframe using the iloc function\n",
        "print(store.iloc[1:6])\n",
        "\n",
        "# Use : on its own to mean all columns or all rows.\n",
        "# Just like Python’s usual slicing notation.\n",
        "\n",
        "print(data.loc[\"Albania\", :])\n",
        "\n",
        "# Would get the same result printing data.loc[\"Albania\"] (without a second index).\n",
        "print(data.loc[:, \"gdpPercap_1952\"])"
      ]
    }
  ]
}